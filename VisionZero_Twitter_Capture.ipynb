{
 "cells": [
  {
   "cell_type": "markdown",
   "metadata": {},
   "source": [
    "## Capture of #WalkTO Tweets\n",
    "\n",
    "* use twython to invoke the Twitter search api"
   ]
  },
  {
   "cell_type": "code",
   "execution_count": 1,
   "metadata": {},
   "outputs": [],
   "source": [
    "import json # library to handle JSON files\n",
    "import numpy as np\n",
    "import pandas as pd\n",
    "import requests # library to handle requests\n",
    "from pandas.io.json import json_normalize # tranform JSON file into a pandas dataframe\n",
    "\n",
    "# Matplotlib and associated plotting modules\n",
    "import matplotlib.cm as cm\n",
    "import matplotlib.colors as colors\n",
    "import urllib\n",
    "import matplotlib.pyplot as plt\n"
   ]
  },
  {
   "cell_type": "code",
   "execution_count": 2,
   "metadata": {},
   "outputs": [],
   "source": [
    "# pip install twython\n",
    "from twython import Twython, TwythonError  "
   ]
  },
  {
   "cell_type": "markdown",
   "metadata": {},
   "source": [
    "#### Setup\n",
    "* import credentials\n",
    "* set base query term"
   ]
  },
  {
   "cell_type": "code",
   "execution_count": 3,
   "metadata": {},
   "outputs": [],
   "source": [
    "\n",
    "# Load credentials from json file\n",
    "with open(\"twitter_credentials.json\", \"r\") as file:  \n",
    "    creds = json.load(file)\n",
    "# Load credentials from json file\n",
    "with open(\"bing_credentials.json\", \"r\") as file:  \n",
    "    bing_key = json.load(file)\n"
   ]
  },
  {
   "cell_type": "code",
   "execution_count": 4,
   "metadata": {},
   "outputs": [],
   "source": [
    "# Instantiate an object\n",
    "python_tweets = Twython(creds['CONSUMER_KEY'], creds['CONSUMER_SECRET'])\n"
   ]
  },
  {
   "cell_type": "code",
   "execution_count": 5,
   "metadata": {},
   "outputs": [],
   "source": [
    "base_query_term = \"#VisionZero\" #\"WalkTO\" # term we are searching for\n",
    "max_iters = 50 # controls how many times we go back to get additional pages"
   ]
  },
  {
   "cell_type": "markdown",
   "metadata": {},
   "source": [
    "* We can only retrieve up to 100 tweets at a time with the search api, so nest in a for loop to gather more tweets.  NOTE: there is a cursor you can in Twython to loop through all the possible search results (\"results = python_tweets.cursor(python_tweets.search, **query)\" , but I was getting odd results for it -- it was intermittently failing to retreive certain Tweets\n",
    "* Tweets > 128 characters were getting cut off due to recent twitter change.  So have to set tweet_mode to extended and grb the \"full_text\" value rather than just text\n",
    "* Search index has a 7-day limit - no tweets will be found for a date older than one week.\n",
    "* Handling of Retweets:\n",
    "    * the retweeted flag always seems to be false, so a more reliable indicator is the retweet_count.  But it is the same on the original tweet plus all the retweets (i.e. if a tweet was retweeted for times, the four retweets and the original will have a retweet count of 4.  So the safest way to filter out retweets seems to use text filtering for the \"RT @\" prefix"
   ]
  },
  {
   "cell_type": "code",
   "execution_count": 6,
   "metadata": {},
   "outputs": [],
   "source": [
    "max_id = \"\"\n",
    "dict_ = {'id': [], 'date': [], 'text': [], 'favorite_count': [],'retweet_count': [],'location':[]}  \n",
    "\n",
    "for call in range(0,max_iters):\n",
    "\n",
    "    query = {'q': base_query_term,  \n",
    "        'result_type': 'recent',\n",
    "        'count': 100,\n",
    "        'lang': 'en',\n",
    "         'max_id': max_id, # what tweet id to start retrieving from\n",
    "        'tweet_mode':'extended',\n",
    "        'include_entities': False\n",
    "     }\n",
    "   \n",
    "\n",
    "    for status in python_tweets.search(**query)['statuses']:  \n",
    "        if  'RT @' not in (status['full_text']):\n",
    "            dict_['id'].append(status['id'])\n",
    "            # dict_['user'].append(status['user']['screen_name'])\n",
    "            dict_['date'].append(status['created_at'])\n",
    "            dict_['text'].append(status['full_text']) # contains text > 128 chars\n",
    "            dict_['favorite_count'].append(status['favorite_count'])\n",
    "            dict_['retweet_count'].append(status['retweet_count'])\n",
    "            dict_['location'].append(status['user']['location'])\n",
    "            max_id = status['id'] # store last tweet accessed so on next iter we will only grab tweets older than that\n",
    "\n"
   ]
  },
  {
   "cell_type": "code",
   "execution_count": 7,
   "metadata": {},
   "outputs": [
    {
     "data": {
      "text/html": [
       "<div>\n",
       "<style scoped>\n",
       "    .dataframe tbody tr th:only-of-type {\n",
       "        vertical-align: middle;\n",
       "    }\n",
       "\n",
       "    .dataframe tbody tr th {\n",
       "        vertical-align: top;\n",
       "    }\n",
       "\n",
       "    .dataframe thead th {\n",
       "        text-align: right;\n",
       "    }\n",
       "</style>\n",
       "<table border=\"1\" class=\"dataframe\">\n",
       "  <thead>\n",
       "    <tr style=\"text-align: right;\">\n",
       "      <th></th>\n",
       "      <th>id</th>\n",
       "      <th>date</th>\n",
       "      <th>text</th>\n",
       "      <th>favorite_count</th>\n",
       "      <th>retweet_count</th>\n",
       "      <th>location</th>\n",
       "    </tr>\n",
       "  </thead>\n",
       "  <tbody>\n",
       "    <tr>\n",
       "      <th>0</th>\n",
       "      <td>1056638453218037760</td>\n",
       "      <td>Sun Oct 28 20:06:53 +0000 2018</td>\n",
       "      <td>And we need to just keep naming/faming and sup...</td>\n",
       "      <td>0</td>\n",
       "      <td>0</td>\n",
       "      <td>Seattle</td>\n",
       "    </tr>\n",
       "    <tr>\n",
       "      <th>1</th>\n",
       "      <td>1056634560421650432</td>\n",
       "      <td>Sun Oct 28 19:51:25 +0000 2018</td>\n",
       "      <td>Get your #costumes ready! We will be at @eSIPA...</td>\n",
       "      <td>0</td>\n",
       "      <td>0</td>\n",
       "      <td>Los Angeles, CA</td>\n",
       "    </tr>\n",
       "    <tr>\n",
       "      <th>2</th>\n",
       "      <td>1056623711976009729</td>\n",
       "      <td>Sun Oct 28 19:08:18 +0000 2018</td>\n",
       "      <td>this morning 👇.\\ntwo of the worst #redlightrun...</td>\n",
       "      <td>19</td>\n",
       "      <td>6</td>\n",
       "      <td>Tāmaki Makaurau, Aotearoa</td>\n",
       "    </tr>\n",
       "    <tr>\n",
       "      <th>3</th>\n",
       "      <td>1056622903272312838</td>\n",
       "      <td>Sun Oct 28 19:05:05 +0000 2018</td>\n",
       "      <td>Have you been in a crash while biking in Belle...</td>\n",
       "      <td>2</td>\n",
       "      <td>0</td>\n",
       "      <td>Washington, USA</td>\n",
       "    </tr>\n",
       "    <tr>\n",
       "      <th>4</th>\n",
       "      <td>1056620938555482112</td>\n",
       "      <td>Sun Oct 28 18:57:17 +0000 2018</td>\n",
       "      <td>When #VisionZero and #climatejustice takes tru...</td>\n",
       "      <td>0</td>\n",
       "      <td>0</td>\n",
       "      <td>Oklahoma City, OK</td>\n",
       "    </tr>\n",
       "  </tbody>\n",
       "</table>\n",
       "</div>"
      ],
      "text/plain": [
       "                    id                            date  \\\n",
       "0  1056638453218037760  Sun Oct 28 20:06:53 +0000 2018   \n",
       "1  1056634560421650432  Sun Oct 28 19:51:25 +0000 2018   \n",
       "2  1056623711976009729  Sun Oct 28 19:08:18 +0000 2018   \n",
       "3  1056622903272312838  Sun Oct 28 19:05:05 +0000 2018   \n",
       "4  1056620938555482112  Sun Oct 28 18:57:17 +0000 2018   \n",
       "\n",
       "                                                text  favorite_count  \\\n",
       "0  And we need to just keep naming/faming and sup...               0   \n",
       "1  Get your #costumes ready! We will be at @eSIPA...               0   \n",
       "2  this morning 👇.\\ntwo of the worst #redlightrun...              19   \n",
       "3  Have you been in a crash while biking in Belle...               2   \n",
       "4  When #VisionZero and #climatejustice takes tru...               0   \n",
       "\n",
       "   retweet_count                   location  \n",
       "0              0                    Seattle  \n",
       "1              0            Los Angeles, CA  \n",
       "2              6  Tāmaki Makaurau, Aotearoa  \n",
       "3              0            Washington, USA  \n",
       "4              0          Oklahoma City, OK  "
      ]
     },
     "execution_count": 7,
     "metadata": {},
     "output_type": "execute_result"
    }
   ],
   "source": [
    "# Structure data in a pandas DataFrame for easier manipulation\n",
    "df = pd.DataFrame(dict_)  \n",
    "df.sort_values(by='id', inplace=True, ascending=False)  \n",
    "df.head()"
   ]
  },
  {
   "cell_type": "code",
   "execution_count": 8,
   "metadata": {},
   "outputs": [
    {
     "data": {
      "text/plain": [
       "(1110, 6)"
      ]
     },
     "execution_count": 8,
     "metadata": {},
     "output_type": "execute_result"
    }
   ],
   "source": [
    "df.shape"
   ]
  },
  {
   "cell_type": "code",
   "execution_count": 9,
   "metadata": {},
   "outputs": [],
   "source": [
    "df.to_csv('visionzero_tweets2.csv', index=False)"
   ]
  },
  {
   "cell_type": "markdown",
   "metadata": {},
   "source": [
    "### Tokenize the Tweets\n",
    "* use the TweetTokenizer to get support for special twitter characters (# and @ symbols have special meanings)"
   ]
  },
  {
   "cell_type": "code",
   "execution_count": 10,
   "metadata": {},
   "outputs": [
    {
     "name": "stdout",
     "output_type": "stream",
     "text": [
      "[nltk_data] Downloading package stopwords to\n",
      "[nltk_data]     C:\\Users\\blahjays\\AppData\\Roaming\\nltk_data...\n",
      "[nltk_data]   Package stopwords is already up-to-date!\n"
     ]
    }
   ],
   "source": [
    "import nltk\n",
    "nltk.download('stopwords')  # run once\n",
    "from nltk.corpus import stopwords\n",
    "stop_words = stopwords.words('english')\n",
    "\n",
    "from nltk.stem import WordNetLemmatizer\n",
    "lemmatizer = WordNetLemmatizer()\n",
    "from nltk.tokenize import TweetTokenizer\n",
    "import string\n",
    "import re"
   ]
  },
  {
   "cell_type": "code",
   "execution_count": 11,
   "metadata": {},
   "outputs": [],
   "source": [
    "def tweet_preprocessor(line, ret_type = 'string'):\n",
    "    ''' this function accepts a line of text and attempts to clean it up.  \n",
    "    It uses the TweetTokenizer to split up the sentence into a list of words, \n",
    "        removes stop words, special characters and http urls and forces everyting to lowercase\n",
    "    If ret_type is string (default), it returns a clean string.  otherwise it returns the list of cleaned words\n",
    "    '''\n",
    "\n",
    "    # use the Tweet Tokenizer to get a list of words\n",
    "    tknzr = TweetTokenizer(preserve_case=False, strip_handles=True)\n",
    "    word_list=tknzr.tokenize(line.strip().lower())\n",
    "\n",
    "    # remove stopwords - include English stop words, our defined stop words and strip out http urls\n",
    "    stops = set(stopwords.words('english'))\n",
    "    # define a few extra stop words to include\n",
    "    extra_stops = ['‘','’','rt','…','—','.', ',','-','(',')','&','?','!','$','<','>','/','*',':',':','\"']\n",
    "    meaningful_words = [w for w in word_list if not w in stops and not w.startswith('http') and not w in extra_stops] \n",
    "    \n",
    "     # stem/lmemmatize (look for root words)\n",
    "    meaningful_words = [lemmatizer.lemmatize(i) for i in meaningful_words]\n",
    "    \n",
    "    # 6. Join the words back into one string separated by space, \n",
    "    # and return the result.\n",
    "    if ret_type =='string':\n",
    "        return(\" \".join(meaningful_words))\n",
    "    else:\n",
    "        return meaningful_words"
   ]
  },
  {
   "cell_type": "markdown",
   "metadata": {},
   "source": [
    "* example use of above function"
   ]
  },
  {
   "cell_type": "code",
   "execution_count": 12,
   "metadata": {},
   "outputs": [
    {
     "data": {
      "text/plain": [
       "\"10/2018\\n\\nEU Transport Commissioner @Bulc_EU announced the appointment of @BaldwinMatthew_ as EU Coordinator for #RoadSafety\\n\\nI am curious whether the @EU_Commission's understanding of road safety includes save roads too or focuses on cars only #VisionZero\\nhttps://t.co/R39uTTa3xq\""
      ]
     },
     "execution_count": 12,
     "metadata": {},
     "output_type": "execute_result"
    }
   ],
   "source": [
    "atweet=df['text'][70]\n",
    "atweet"
   ]
  },
  {
   "cell_type": "code",
   "execution_count": 13,
   "metadata": {},
   "outputs": [
    {
     "data": {
      "text/plain": [
       "\"10/2018 eu transport commissioner announced appointment eu coordinator #roadsafety curious whether ' understanding road safety includes save road focus car #visionzero\""
      ]
     },
     "execution_count": 13,
     "metadata": {},
     "output_type": "execute_result"
    }
   ],
   "source": [
    "atweet=df['text'][70]\n",
    "tweet_preprocessor(atweet)"
   ]
  },
  {
   "cell_type": "markdown",
   "metadata": {},
   "source": [
    "* Loop through all our tweets and clean up each one"
   ]
  },
  {
   "cell_type": "code",
   "execution_count": 14,
   "metadata": {},
   "outputs": [],
   "source": [
    "cleaned_tweets = [tweet_preprocessor(row) for row in df['text']]"
   ]
  },
  {
   "cell_type": "code",
   "execution_count": 15,
   "metadata": {},
   "outputs": [
    {
     "data": {
      "text/plain": [
       "['need keep naming faming supporting city mayor innovator zero #activetransportation | walk bike #climatechange solution already exists renew #safestreets #visionzero commitment #cities4climate #bikes4climate',\n",
       " 'get #costumes ready #halloween carnival wednesday #visionzero seeing real #treat 😘 🎃 👻',\n",
       " 'morning 👇 two worst #redlightrunners seen long time ... [ audi bmw ... quelle suprise ... audi actually accelerating red bmw different planet ... ] 😳 🤬 😤 yeah lime #escooters terrorising #auckland crossing ... 🙄 🤔 #visionzero',\n",
       " 'crash biking bellevue part #visionzero planning franz loewenherz want hear story share email floewenherz@bellevuewa.gov',\n",
       " '#visionzero #climatejustice take true action',\n",
       " 'please get enforcement front tim hortons bay gerrard car constantly blocking bike lane stopping stopping zone #visionzero #biketo',\n",
       " 'two classic steel mtbs carrying two brother turn brooklyn #trueblue riding support #visionzero #climatejustice lgbtq right #bikenyc much',\n",
       " 'day feel like twitter giant waste time day see tool positive change today great day safety notorious intersection #visionzero',\n",
       " 'hey #visionzero #bikenyc park bus',\n",
       " \"i'm glad would matter without #visionzero dc yes still would mpd well need ' encouragement i'm glad giving i'm also sad always matter victim duo assault dead vote\"]"
      ]
     },
     "execution_count": 15,
     "metadata": {},
     "output_type": "execute_result"
    }
   ],
   "source": [
    "cleaned_tweets[0:10]"
   ]
  },
  {
   "cell_type": "markdown",
   "metadata": {},
   "source": [
    "## Vectorizing\n",
    "* So now that we have a fairly clean and simplified version of our Tweets, we might want to Vectorize the results in order to extract the most commonly used words or to feed the Tweets to a clustering algorithm. \n",
    "* With basic count vectorization, we create a very sparse matrix where the columns are all the individual words appearing anywhere in our collection of Tweets (the \"corpus\") and the rows are the individual tweets. So if our first tweet only contained two words (\"pedestrian\" and \"safety\"), row one would have zeros in all columns except the Pedestrian and Safety columns. This is called a \"bag of words\" and is only concerned with whether a word appears or not in the next and ignores things like positioning, emphasis, weighting etc. appears in our first tweet, there will be a \"1\" inVectorization is the process of turning text into numeric\n",
    "* I used the basic CountVectorizer to create a feature vector with a frequency score for each word in a Tweet. \n",
    "* The token_pattern tells it to preserve the hashtags (#) in the tweets (credit to the examples page on ProgramCreek for the regex) (https://www.programcreek.com/python/example/83254/sklearn.feature_extraction.text.TfidfVectorizer)\n"
   ]
  },
  {
   "cell_type": "code",
   "execution_count": 16,
   "metadata": {},
   "outputs": [],
   "source": [
    "from sklearn.feature_extraction.text import CountVectorizer"
   ]
  },
  {
   "cell_type": "code",
   "execution_count": 17,
   "metadata": {},
   "outputs": [],
   "source": [
    "#remove mentions but keep hashtags with their sign\n",
    "token_pattern = r'(?u)(?<![@])#?\\b\\w\\w+\\b'\n",
    "cvec = CountVectorizer(stop_words='english',token_pattern=token_pattern)"
   ]
  },
  {
   "cell_type": "code",
   "execution_count": 18,
   "metadata": {},
   "outputs": [],
   "source": [
    "cvec.fit(cleaned_tweets)\n",
    "X_train_counts=cvec.transform(cleaned_tweets)"
   ]
  },
  {
   "cell_type": "code",
   "execution_count": 19,
   "metadata": {},
   "outputs": [
    {
     "data": {
      "text/plain": [
       "4470"
      ]
     },
     "execution_count": 19,
     "metadata": {},
     "output_type": "execute_result"
    }
   ],
   "source": [
    "len(cvec.get_feature_names())"
   ]
  },
  {
   "cell_type": "markdown",
   "metadata": {},
   "source": [
    "* create a data frame"
   ]
  },
  {
   "cell_type": "code",
   "execution_count": 20,
   "metadata": {},
   "outputs": [
    {
     "data": {
      "text/html": [
       "<div>\n",
       "<style scoped>\n",
       "    .dataframe tbody tr th:only-of-type {\n",
       "        vertical-align: middle;\n",
       "    }\n",
       "\n",
       "    .dataframe tbody tr th {\n",
       "        vertical-align: top;\n",
       "    }\n",
       "\n",
       "    .dataframe thead th {\n",
       "        text-align: right;\n",
       "    }\n",
       "</style>\n",
       "<table border=\"1\" class=\"dataframe\">\n",
       "  <thead>\n",
       "    <tr style=\"text-align: right;\">\n",
       "      <th></th>\n",
       "      <th>#104pct</th>\n",
       "      <th>#20isplenty</th>\n",
       "      <th>#2deathsaretoomany</th>\n",
       "      <th>#30km</th>\n",
       "      <th>#3es</th>\n",
       "      <th>#880str</th>\n",
       "      <th>#8to80</th>\n",
       "      <th>#abbiegeassistent</th>\n",
       "      <th>#ableg</th>\n",
       "      <th>#abq</th>\n",
       "      <th>...</th>\n",
       "      <th>ytd</th>\n",
       "      <th>yukon</th>\n",
       "      <th>yup</th>\n",
       "      <th>zebra</th>\n",
       "      <th>zeolots</th>\n",
       "      <th>zero</th>\n",
       "      <th>zing</th>\n",
       "      <th>zone</th>\n",
       "      <th>zoo</th>\n",
       "      <th>zoë</th>\n",
       "    </tr>\n",
       "  </thead>\n",
       "  <tbody>\n",
       "    <tr>\n",
       "      <th>950</th>\n",
       "      <td>0</td>\n",
       "      <td>0</td>\n",
       "      <td>0</td>\n",
       "      <td>0</td>\n",
       "      <td>0</td>\n",
       "      <td>0</td>\n",
       "      <td>0</td>\n",
       "      <td>0</td>\n",
       "      <td>0</td>\n",
       "      <td>0</td>\n",
       "      <td>...</td>\n",
       "      <td>0</td>\n",
       "      <td>0</td>\n",
       "      <td>0</td>\n",
       "      <td>0</td>\n",
       "      <td>0</td>\n",
       "      <td>0</td>\n",
       "      <td>0</td>\n",
       "      <td>0</td>\n",
       "      <td>0</td>\n",
       "      <td>0</td>\n",
       "    </tr>\n",
       "    <tr>\n",
       "      <th>327</th>\n",
       "      <td>0</td>\n",
       "      <td>0</td>\n",
       "      <td>0</td>\n",
       "      <td>0</td>\n",
       "      <td>0</td>\n",
       "      <td>0</td>\n",
       "      <td>0</td>\n",
       "      <td>0</td>\n",
       "      <td>0</td>\n",
       "      <td>0</td>\n",
       "      <td>...</td>\n",
       "      <td>0</td>\n",
       "      <td>0</td>\n",
       "      <td>0</td>\n",
       "      <td>0</td>\n",
       "      <td>0</td>\n",
       "      <td>0</td>\n",
       "      <td>0</td>\n",
       "      <td>0</td>\n",
       "      <td>0</td>\n",
       "      <td>0</td>\n",
       "    </tr>\n",
       "    <tr>\n",
       "      <th>969</th>\n",
       "      <td>0</td>\n",
       "      <td>0</td>\n",
       "      <td>0</td>\n",
       "      <td>0</td>\n",
       "      <td>0</td>\n",
       "      <td>0</td>\n",
       "      <td>0</td>\n",
       "      <td>0</td>\n",
       "      <td>0</td>\n",
       "      <td>0</td>\n",
       "      <td>...</td>\n",
       "      <td>0</td>\n",
       "      <td>0</td>\n",
       "      <td>0</td>\n",
       "      <td>0</td>\n",
       "      <td>0</td>\n",
       "      <td>0</td>\n",
       "      <td>0</td>\n",
       "      <td>0</td>\n",
       "      <td>0</td>\n",
       "      <td>0</td>\n",
       "    </tr>\n",
       "    <tr>\n",
       "      <th>743</th>\n",
       "      <td>0</td>\n",
       "      <td>0</td>\n",
       "      <td>0</td>\n",
       "      <td>0</td>\n",
       "      <td>0</td>\n",
       "      <td>0</td>\n",
       "      <td>0</td>\n",
       "      <td>0</td>\n",
       "      <td>0</td>\n",
       "      <td>0</td>\n",
       "      <td>...</td>\n",
       "      <td>0</td>\n",
       "      <td>0</td>\n",
       "      <td>0</td>\n",
       "      <td>0</td>\n",
       "      <td>0</td>\n",
       "      <td>0</td>\n",
       "      <td>0</td>\n",
       "      <td>0</td>\n",
       "      <td>0</td>\n",
       "      <td>0</td>\n",
       "    </tr>\n",
       "    <tr>\n",
       "      <th>241</th>\n",
       "      <td>0</td>\n",
       "      <td>0</td>\n",
       "      <td>0</td>\n",
       "      <td>0</td>\n",
       "      <td>0</td>\n",
       "      <td>0</td>\n",
       "      <td>0</td>\n",
       "      <td>0</td>\n",
       "      <td>0</td>\n",
       "      <td>0</td>\n",
       "      <td>...</td>\n",
       "      <td>0</td>\n",
       "      <td>0</td>\n",
       "      <td>0</td>\n",
       "      <td>0</td>\n",
       "      <td>0</td>\n",
       "      <td>0</td>\n",
       "      <td>0</td>\n",
       "      <td>0</td>\n",
       "      <td>0</td>\n",
       "      <td>0</td>\n",
       "    </tr>\n",
       "  </tbody>\n",
       "</table>\n",
       "<p>5 rows × 4470 columns</p>\n",
       "</div>"
      ],
      "text/plain": [
       "     #104pct  #20isplenty  #2deathsaretoomany  #30km  #3es  #880str  #8to80  \\\n",
       "950        0            0                   0      0     0        0       0   \n",
       "327        0            0                   0      0     0        0       0   \n",
       "969        0            0                   0      0     0        0       0   \n",
       "743        0            0                   0      0     0        0       0   \n",
       "241        0            0                   0      0     0        0       0   \n",
       "\n",
       "     #abbiegeassistent  #ableg  #abq ...   ytd  yukon  yup  zebra  zeolots  \\\n",
       "950                  0       0     0 ...     0      0    0      0        0   \n",
       "327                  0       0     0 ...     0      0    0      0        0   \n",
       "969                  0       0     0 ...     0      0    0      0        0   \n",
       "743                  0       0     0 ...     0      0    0      0        0   \n",
       "241                  0       0     0 ...     0      0    0      0        0   \n",
       "\n",
       "     zero  zing  zone  zoo  zoë  \n",
       "950     0     0     0    0    0  \n",
       "327     0     0     0    0    0  \n",
       "969     0     0     0    0    0  \n",
       "743     0     0     0    0    0  \n",
       "241     0     0     0    0    0  \n",
       "\n",
       "[5 rows x 4470 columns]"
      ]
     },
     "execution_count": 20,
     "metadata": {},
     "output_type": "execute_result"
    }
   ],
   "source": [
    "all_tweets_df = pd.DataFrame(X_train_counts.toarray(), columns=cvec.get_feature_names())\n",
    "all_tweets_df.sample(5)"
   ]
  },
  {
   "cell_type": "markdown",
   "metadata": {},
   "source": [
    "* create a Series with the top 100 most important words and convert to a dataframe"
   ]
  },
  {
   "cell_type": "code",
   "execution_count": 21,
   "metadata": {},
   "outputs": [
    {
     "data": {
      "text/html": [
       "<div>\n",
       "<style scoped>\n",
       "    .dataframe tbody tr th:only-of-type {\n",
       "        vertical-align: middle;\n",
       "    }\n",
       "\n",
       "    .dataframe tbody tr th {\n",
       "        vertical-align: top;\n",
       "    }\n",
       "\n",
       "    .dataframe thead th {\n",
       "        text-align: right;\n",
       "    }\n",
       "</style>\n",
       "<table border=\"1\" class=\"dataframe\">\n",
       "  <thead>\n",
       "    <tr style=\"text-align: right;\">\n",
       "      <th></th>\n",
       "      <th>word</th>\n",
       "      <th>freq</th>\n",
       "    </tr>\n",
       "  </thead>\n",
       "  <tbody>\n",
       "    <tr>\n",
       "      <th>0</th>\n",
       "      <td>driver</td>\n",
       "      <td>236</td>\n",
       "    </tr>\n",
       "    <tr>\n",
       "      <th>1</th>\n",
       "      <td>bike</td>\n",
       "      <td>234</td>\n",
       "    </tr>\n",
       "    <tr>\n",
       "      <th>2</th>\n",
       "      <td>lane</td>\n",
       "      <td>199</td>\n",
       "    </tr>\n",
       "    <tr>\n",
       "      <th>3</th>\n",
       "      <td>#bikenyc</td>\n",
       "      <td>161</td>\n",
       "    </tr>\n",
       "    <tr>\n",
       "      <th>4</th>\n",
       "      <td>community</td>\n",
       "      <td>153</td>\n",
       "    </tr>\n",
       "    <tr>\n",
       "      <th>5</th>\n",
       "      <td>safety</td>\n",
       "      <td>146</td>\n",
       "    </tr>\n",
       "    <tr>\n",
       "      <th>6</th>\n",
       "      <td>near</td>\n",
       "      <td>135</td>\n",
       "    </tr>\n",
       "    <tr>\n",
       "      <th>7</th>\n",
       "      <td>board</td>\n",
       "      <td>131</td>\n",
       "    </tr>\n",
       "    <tr>\n",
       "      <th>8</th>\n",
       "      <td>october</td>\n",
       "      <td>130</td>\n",
       "    </tr>\n",
       "    <tr>\n",
       "      <th>9</th>\n",
       "      <td>reported</td>\n",
       "      <td>128</td>\n",
       "    </tr>\n",
       "  </tbody>\n",
       "</table>\n",
       "</div>"
      ],
      "text/plain": [
       "        word  freq\n",
       "0     driver   236\n",
       "1       bike   234\n",
       "2       lane   199\n",
       "3   #bikenyc   161\n",
       "4  community   153\n",
       "5     safety   146\n",
       "6       near   135\n",
       "7      board   131\n",
       "8    october   130\n",
       "9   reported   128"
      ]
     },
     "execution_count": 21,
     "metadata": {},
     "output_type": "execute_result"
    }
   ],
   "source": [
    "top_words = all_tweets_df.sum().sort_values(ascending=False).iloc[1:100]\n",
    "top_words=top_words.to_frame()\n",
    "top_words=top_words.reset_index().rename(columns={'index': 'word', 0:'freq'})\n",
    "top_words.head(10)"
   ]
  },
  {
   "cell_type": "markdown",
   "metadata": {},
   "source": [
    "## Create a WordCloud visualization of top terms in the WalkTO Tweets\n",
    "\n",
    "* use WordCloud Module"
   ]
  },
  {
   "cell_type": "code",
   "execution_count": 22,
   "metadata": {},
   "outputs": [],
   "source": [
    "#pip install wordcloud\n",
    "from wordcloud import WordCloud, STOPWORDS, ImageColorGenerator"
   ]
  },
  {
   "cell_type": "markdown",
   "metadata": {},
   "source": [
    "* wordcloud accepts a dictionary where the key is the word and the value is the number of times it appears\n",
    "* so we'll convert our dataframe with the top 100 words to a dictionary"
   ]
  },
  {
   "cell_type": "code",
   "execution_count": 23,
   "metadata": {},
   "outputs": [],
   "source": [
    "freq_dict = top_words.set_index('word').to_dict()['freq']"
   ]
  },
  {
   "cell_type": "code",
   "execution_count": 24,
   "metadata": {},
   "outputs": [
    {
     "data": {
      "image/png": "[encoded data removed]",
      "text/plain": [
       "<Figure size 432x288 with 1 Axes>"
      ]
     },
     "metadata": {
      "needs_background": "light"
     },
     "output_type": "display_data"
    }
   ],
   "source": [
    "# lower max_font_size, change the maximum number of word and lighten the background:\n",
    "wordcloud = WordCloud(max_font_size=50, max_words=100, background_color=\"white\").generate_from_frequencies(freq_dict)\n",
    "plt.figure()\n",
    "\n",
    "plt.imshow(wordcloud, interpolation=\"bilinear\")\n",
    "plt.axis(\"off\")\n",
    "plt.show()"
   ]
  },
  {
   "cell_type": "markdown",
   "metadata": {},
   "source": [
    "# Word2Vec\n",
    "* use gensim"
   ]
  },
  {
   "cell_type": "code",
   "execution_count": 25,
   "metadata": {},
   "outputs": [
    {
     "name": "stderr",
     "output_type": "stream",
     "text": [
      "C:\\ProgramData\\Anaconda3\\lib\\site-packages\\gensim\\utils.py:1212: UserWarning: detected Windows; aliasing chunkize to chunkize_serial\n",
      "  warnings.warn(\"detected Windows; aliasing chunkize to chunkize_serial\")\n"
     ]
    }
   ],
   "source": [
    "import gensim\n",
    "from gensim.models.word2vec import Word2Vec"
   ]
  },
  {
   "cell_type": "code",
   "execution_count": 26,
   "metadata": {},
   "outputs": [],
   "source": [
    "list_tweets = []\n",
    "for tweet in cleaned_tweets:\n",
    "    list_tweets.append(tweet_preprocessor(tweet, 'list'))"
   ]
  },
  {
   "cell_type": "markdown",
   "metadata": {},
   "source": [
    "Required format for sentences\n",
    "\n",
    "\n",
    "* sentences = [['this', 'is', 'the', 'first', 'sentence', 'for', 'word2vec'],\n",
    "\t['this', 'is', 'the', 'second', 'sentence'],\n",
    "\t['yet', 'another', 'sentence'],\n",
    "\t['one', 'more', 'sentence'],\n",
    "\t['and', 'the', 'final', 'sentence']]"
   ]
  },
  {
   "cell_type": "code",
   "execution_count": 27,
   "metadata": {},
   "outputs": [
    {
     "data": {
      "text/plain": [
       "[['need',\n",
       "  'keep',\n",
       "  'naming',\n",
       "  'faming',\n",
       "  'supporting',\n",
       "  'city',\n",
       "  'mayor',\n",
       "  'innovator',\n",
       "  'zero',\n",
       "  '#activetransportation',\n",
       "  '|',\n",
       "  'walk',\n",
       "  'bike',\n",
       "  '#climatechange',\n",
       "  'solution',\n",
       "  'already',\n",
       "  'exists',\n",
       "  'renew',\n",
       "  '#safestreets',\n",
       "  '#visionzero',\n",
       "  'commitment',\n",
       "  '#cities4climate',\n",
       "  '#bikes4climate'],\n",
       " ['get',\n",
       "  '#costumes',\n",
       "  'ready',\n",
       "  '#halloween',\n",
       "  'carnival',\n",
       "  'wednesday',\n",
       "  '#visionzero',\n",
       "  'seeing',\n",
       "  'real',\n",
       "  '#treat',\n",
       "  '😘',\n",
       "  '🎃',\n",
       "  '👻'],\n",
       " ['morning',\n",
       "  '👇',\n",
       "  'two',\n",
       "  'worst',\n",
       "  '#redlightrunners',\n",
       "  'seen',\n",
       "  'long',\n",
       "  'time',\n",
       "  '...',\n",
       "  '[',\n",
       "  'audi',\n",
       "  'bmw',\n",
       "  '...',\n",
       "  'quelle',\n",
       "  'suprise',\n",
       "  '...',\n",
       "  'audi',\n",
       "  'actually',\n",
       "  'accelerating',\n",
       "  'red',\n",
       "  'bmw',\n",
       "  'different',\n",
       "  'planet',\n",
       "  '...',\n",
       "  ']',\n",
       "  '😳',\n",
       "  '🤬',\n",
       "  '😤',\n",
       "  'yeah',\n",
       "  'lime',\n",
       "  '#escooters',\n",
       "  'terrorising',\n",
       "  '#auckland',\n",
       "  'crossing',\n",
       "  '...',\n",
       "  '🙄',\n",
       "  '🤔',\n",
       "  '#visionzero'],\n",
       " ['crash',\n",
       "  'biking',\n",
       "  'bellevue',\n",
       "  'part',\n",
       "  '#visionzero',\n",
       "  'planning',\n",
       "  'franz',\n",
       "  'loewenherz',\n",
       "  'want',\n",
       "  'hear',\n",
       "  'story',\n",
       "  'share',\n",
       "  'email',\n",
       "  'floewenherz@bellevuewa.gov'],\n",
       " ['#visionzero', '#climatejustice', 'take', 'true', 'action']]"
      ]
     },
     "execution_count": 27,
     "metadata": {},
     "output_type": "execute_result"
    }
   ],
   "source": [
    "list_tweets[0:5]"
   ]
  },
  {
   "cell_type": "code",
   "execution_count": 28,
   "metadata": {},
   "outputs": [
    {
     "name": "stderr",
     "output_type": "stream",
     "text": [
      "C:\\ProgramData\\Anaconda3\\lib\\site-packages\\gensim\\models\\base_any2vec.py:743: UserWarning: C extension not loaded, training will be slow. Install a C compiler and reinstall gensim for fast training.\n",
      "  \"C extension not loaded, training will be slow. \"\n"
     ]
    },
    {
     "data": {
      "text/plain": [
       "(170538, 194130)"
      ]
     },
     "execution_count": 28,
     "metadata": {},
     "output_type": "execute_result"
    }
   ],
   "source": [
    "# Train Word2Vec model. Defaults result vector size = 100\n",
    "#So, we are essentially passing on a list of lists. \n",
    "#Where each list within the main list contains a set of tokens from a user review\n",
    "\n",
    "model = Word2Vec(list_tweets, min_count = 0, workers=2)\n",
    "model.train(list_tweets, total_examples=len(list_tweets), epochs=10)"
   ]
  },
  {
   "cell_type": "code",
   "execution_count": 29,
   "metadata": {},
   "outputs": [
    {
     "data": {
      "text/plain": [
       "19413"
      ]
     },
     "execution_count": 29,
     "metadata": {},
     "output_type": "execute_result"
    }
   ],
   "source": [
    "# check model for a word\n",
    "model.corpus_total_words"
   ]
  },
  {
   "cell_type": "code",
   "execution_count": 30,
   "metadata": {},
   "outputs": [
    {
     "data": {
      "text/plain": [
       "['need',\n",
       " 'keep',\n",
       " 'naming',\n",
       " 'faming',\n",
       " 'supporting',\n",
       " 'city',\n",
       " 'mayor',\n",
       " 'innovator',\n",
       " 'zero',\n",
       " '#activetransportation']"
      ]
     },
     "execution_count": 30,
     "metadata": {},
     "output_type": "execute_result"
    }
   ],
   "source": [
    "# summarize vocabulary\n",
    "words = list(model.wv.vocab)\n",
    "words[0:10]"
   ]
  },
  {
   "cell_type": "code",
   "execution_count": 31,
   "metadata": {},
   "outputs": [
    {
     "name": "stderr",
     "output_type": "stream",
     "text": [
      "C:\\ProgramData\\Anaconda3\\lib\\site-packages\\ipykernel_launcher.py:1: DeprecationWarning: Call to deprecated `__getitem__` (Method will be removed in 4.0.0, use self.wv.__getitem__() instead).\n",
      "  \"\"\"Entry point for launching an IPython kernel.\n"
     ]
    },
    {
     "data": {
      "text/plain": [
       "array([-0.34381628,  0.34937838,  0.22880763,  0.06766599, -0.6848655 ,\n",
       "       -0.31537262,  0.5267218 , -0.39520398, -0.3982092 ,  0.29719904,\n",
       "       -0.22102027, -0.04151562,  0.44758815, -0.17968434,  0.26335636,\n",
       "        0.02177299,  0.44009992,  0.10987701, -0.30469805,  0.2928268 ,\n",
       "       -0.51748145, -0.09147996,  0.08574892,  0.13559751, -0.1936442 ,\n",
       "       -0.3726492 , -0.55854976, -0.0586527 ,  0.22047625, -0.13211738,\n",
       "        0.4916753 , -0.17157733,  0.12774034,  0.10526374,  0.00872502,\n",
       "        0.10967977,  0.3103287 , -0.46569204,  0.08341961, -0.44333848,\n",
       "        0.32651177, -0.12577015, -0.30250037,  0.4606381 , -0.25243014,\n",
       "       -0.0758742 , -0.19011088,  0.4240496 , -0.10797154,  0.3006354 ,\n",
       "       -0.2687077 , -0.02604207, -0.33184806, -0.10785183, -0.08324189,\n",
       "        0.15548272,  0.2037157 , -0.21513908,  0.48433876, -0.33243847,\n",
       "       -0.2603298 , -0.1533459 , -0.01080013, -0.12266141,  0.20878485,\n",
       "       -0.19406147, -0.21155994,  0.36828455, -0.3168834 , -0.26030043,\n",
       "        0.20673776, -0.33586147, -0.2648185 ,  0.5739828 , -0.26083395,\n",
       "        0.04304944, -0.11741881, -0.10050354,  0.53673047, -0.39347312,\n",
       "        0.09212808,  0.36398783,  0.40784797,  0.03743696,  0.15605779,\n",
       "        0.30046666,  0.39249715,  0.05950595, -0.11174563, -0.46964416,\n",
       "       -0.13696922, -0.39199898, -0.05140145,  0.28108522,  0.5296884 ,\n",
       "        0.00869844,  0.5225624 , -0.37853837,  0.26705942,  0.25786003],\n",
       "      dtype=float32)"
      ]
     },
     "execution_count": 31,
     "metadata": {},
     "output_type": "execute_result"
    }
   ],
   "source": [
    "model['crossing']"
   ]
  },
  {
   "cell_type": "code",
   "execution_count": 32,
   "metadata": {},
   "outputs": [
    {
     "name": "stderr",
     "output_type": "stream",
     "text": [
      "C:\\ProgramData\\Anaconda3\\lib\\site-packages\\ipykernel_launcher.py:1: DeprecationWarning: Call to deprecated `most_similar` (Method will be removed in 4.0.0, use self.wv.most_similar() instead).\n",
      "  \"\"\"Entry point for launching an IPython kernel.\n",
      "C:\\ProgramData\\Anaconda3\\lib\\site-packages\\gensim\\matutils.py:737: FutureWarning: Conversion of the second argument of issubdtype from `int` to `np.signedinteger` is deprecated. In future, it will be treated as `np.int32 == np.dtype(int).type`.\n",
      "  if np.issubdtype(vec.dtype, np.int):\n"
     ]
    },
    {
     "data": {
      "text/plain": [
       "[('around', 0.9998886585235596),\n",
       " ('also', 0.9998844861984253),\n",
       " ('officer', 0.999867856502533),\n",
       " ('help', 0.9998664259910583),\n",
       " ('thanks', 0.9998661875724792),\n",
       " ('want', 0.9998660087585449),\n",
       " ('police', 0.9998610019683838),\n",
       " ('since', 0.9998596906661987),\n",
       " ('neighborhood', 0.9998544454574585),\n",
       " ('let', 0.9998485445976257)]"
      ]
     },
     "execution_count": 32,
     "metadata": {},
     "output_type": "execute_result"
    }
   ],
   "source": [
    "model.most_similar('trail')"
   ]
  },
  {
   "cell_type": "code",
   "execution_count": 33,
   "metadata": {},
   "outputs": [
    {
     "name": "stderr",
     "output_type": "stream",
     "text": [
      "C:\\ProgramData\\Anaconda3\\lib\\site-packages\\ipykernel_launcher.py:1: DeprecationWarning: Call to deprecated `similar_by_word` (Method will be removed in 4.0.0, use self.wv.similar_by_word() instead).\n",
      "  \"\"\"Entry point for launching an IPython kernel.\n",
      "C:\\ProgramData\\Anaconda3\\lib\\site-packages\\gensim\\matutils.py:737: FutureWarning: Conversion of the second argument of issubdtype from `int` to `np.signedinteger` is deprecated. In future, it will be treated as `np.int32 == np.dtype(int).type`.\n",
      "  if np.issubdtype(vec.dtype, np.int):\n"
     ]
    },
    {
     "data": {
      "text/plain": [
       "[('killed', 0.9997137188911438),\n",
       " ('people', 0.9996294975280762),\n",
       " ('death', 0.999611496925354),\n",
       " ('design', 0.9995982646942139),\n",
       " ('right', 0.9995765686035156),\n",
       " ('walking', 0.9995670914649963),\n",
       " ('every', 0.9995614290237427),\n",
       " ('road', 0.9995512962341309),\n",
       " ('speed', 0.999535858631134),\n",
       " ('protect', 0.9995259046554565)]"
      ]
     },
     "execution_count": 33,
     "metadata": {},
     "output_type": "execute_result"
    }
   ],
   "source": [
    "model.similar_by_word('accident')"
   ]
  },
  {
   "cell_type": "code",
   "execution_count": 34,
   "metadata": {},
   "outputs": [
    {
     "name": "stderr",
     "output_type": "stream",
     "text": [
      "C:\\ProgramData\\Anaconda3\\lib\\site-packages\\ipykernel_launcher.py:1: DeprecationWarning: Call to deprecated `similar_by_word` (Method will be removed in 4.0.0, use self.wv.similar_by_word() instead).\n",
      "  \"\"\"Entry point for launching an IPython kernel.\n",
      "C:\\ProgramData\\Anaconda3\\lib\\site-packages\\gensim\\matutils.py:737: FutureWarning: Conversion of the second argument of issubdtype from `int` to `np.signedinteger` is deprecated. In future, it will be treated as `np.int32 == np.dtype(int).type`.\n",
      "  if np.issubdtype(vec.dtype, np.int):\n"
     ]
    },
    {
     "data": {
      "text/plain": [
       "[('killed', 0.9998244643211365),\n",
       " ('speed', 0.9998199939727783),\n",
       " ('design', 0.9998155832290649),\n",
       " ('road', 0.9998102188110352),\n",
       " ('traffic', 0.9998087882995605),\n",
       " ('every', 0.9998048543930054),\n",
       " ('intersection', 0.9997996687889099),\n",
       " ('one', 0.9997982382774353),\n",
       " ('fatality', 0.9997917413711548),\n",
       " ('street', 0.9997905492782593)]"
      ]
     },
     "execution_count": 34,
     "metadata": {},
     "output_type": "execute_result"
    }
   ],
   "source": [
    "model.similar_by_word('pedestrian')"
   ]
  },
  {
   "cell_type": "code",
   "execution_count": 35,
   "metadata": {},
   "outputs": [
    {
     "name": "stderr",
     "output_type": "stream",
     "text": [
      "C:\\ProgramData\\Anaconda3\\lib\\site-packages\\gensim\\matutils.py:737: FutureWarning: Conversion of the second argument of issubdtype from `int` to `np.signedinteger` is deprecated. In future, it will be treated as `np.int32 == np.dtype(int).type`.\n",
      "  if np.issubdtype(vec.dtype, np.int):\n"
     ]
    },
    {
     "data": {
      "text/plain": [
       "'bike'"
      ]
     },
     "execution_count": 35,
     "metadata": {},
     "output_type": "execute_result"
    }
   ],
   "source": [
    "model.wv.doesnt_match(\"bike trail orange cycle\".split())"
   ]
  },
  {
   "cell_type": "markdown",
   "metadata": {},
   "source": [
    "### Try to visualize the learned relationships\n",
    "https://towardsdatascience.com/understanding-feature-engineering-part-4-deep-learning-methods-for-text-data-96c44370bbfa"
   ]
  },
  {
   "cell_type": "code",
   "execution_count": 36,
   "metadata": {},
   "outputs": [
    {
     "name": "stderr",
     "output_type": "stream",
     "text": [
      "C:\\ProgramData\\Anaconda3\\lib\\site-packages\\gensim\\matutils.py:737: FutureWarning: Conversion of the second argument of issubdtype from `int` to `np.signedinteger` is deprecated. In future, it will be treated as `np.int32 == np.dtype(int).type`.\n",
      "  if np.issubdtype(vec.dtype, np.int):\n"
     ]
    },
    {
     "data": {
      "text/plain": [
       "{'safety': ['...', 'city', 'work', 'change', 'must'],\n",
       " 'pedestrian': ['killed', 'speed', 'design', 'road', 'traffic'],\n",
       " 'bike': ['lane', 'l', 'blocked', 'driver', 'base'],\n",
       " 'police': ['officer', 'drive', 'response', 'also', 'neighborhood'],\n",
       " 'traffic': ['road', 'fatality', 'serious', 'death', 'safer']}"
      ]
     },
     "execution_count": 36,
     "metadata": {},
     "output_type": "execute_result"
    }
   ],
   "source": [
    "# view similar words based on gensim's model\n",
    "similar_words = {search_term: [item[0] for item in model.wv.most_similar([search_term], topn=5)]\n",
    "                  for search_term in ['safety','pedestrian','bike','police','traffic']}\n",
    "similar_words"
   ]
  },
  {
   "cell_type": "code",
   "execution_count": 37,
   "metadata": {},
   "outputs": [
    {
     "data": {
      "image/png": "[encoded data removed]",
      "text/plain": [
       "<Figure size 1008x576 with 1 Axes>"
      ]
     },
     "metadata": {
      "needs_background": "light"
     },
     "output_type": "display_data"
    }
   ],
   "source": [
    "from sklearn.manifold import TSNE\n",
    "\n",
    "words = sum([[k] + v for k, v in similar_words.items()], [])\n",
    "wvs = model.wv[words]\n",
    "\n",
    "tsne = TSNE(n_components=2, random_state=0, n_iter=10000, perplexity=2)\n",
    "np.set_printoptions(suppress=True)\n",
    "T = tsne.fit_transform(wvs)\n",
    "labels = words\n",
    "\n",
    "plt.figure(figsize=(14, 8))\n",
    "plt.scatter(T[:, 0], T[:, 1], c='orange', edgecolors='r')\n",
    "for label, x, y in zip(labels, T[:, 0], T[:, 1]):\n",
    "    plt.annotate(label, xy=(x+1, y+1), xytext=(0, 0), textcoords='offset points')"
   ]
  },
  {
   "cell_type": "code",
   "execution_count": null,
   "metadata": {},
   "outputs": [],
   "source": []
  },
  {
   "cell_type": "markdown",
   "metadata": {},
   "source": [
    "# Summarization"
   ]
  },
  {
   "cell_type": "code",
   "execution_count": 38,
   "metadata": {},
   "outputs": [],
   "source": [
    "from gensim.summarization import summarize, keywords"
   ]
  },
  {
   "cell_type": "code",
   "execution_count": 39,
   "metadata": {},
   "outputs": [],
   "source": [
    "\n",
    "walkto_doc = \". \".join((tweet for tweet in cleaned_tweets))\n"
   ]
  },
  {
   "cell_type": "code",
   "execution_count": 40,
   "metadata": {},
   "outputs": [
    {
     "data": {
      "text/plain": [
       "'toyota camry hybrid driver t642493c blocked bike lane near 1066 st nicholas ave october 23 reported #nyctaxi manhattan community board 12 #mancb12 #nypd33pct #visionzero #bikenyc.'"
      ]
     },
     "execution_count": 40,
     "metadata": {},
     "output_type": "execute_result"
    }
   ],
   "source": [
    "summarize(walkto_doc, word_count=20)"
   ]
  },
  {
   "cell_type": "markdown",
   "metadata": {},
   "source": [
    "# Sentiment Analysis using Textblob\n",
    "\n"
   ]
  },
  {
   "cell_type": "code",
   "execution_count": 41,
   "metadata": {},
   "outputs": [],
   "source": [
    "# pip install textblob\n",
    "# download corpora python -m textblob.download_corpora"
   ]
  },
  {
   "cell_type": "code",
   "execution_count": 42,
   "metadata": {},
   "outputs": [],
   "source": [
    "from textblob import TextBlob \n"
   ]
  },
  {
   "cell_type": "code",
   "execution_count": 44,
   "metadata": {},
   "outputs": [],
   "source": [
    " # create TextBlob object of passed tweet text \n",
    "def get_sentiment(tweet):\n",
    "    analysis = TextBlob(tweet) \n",
    "    # set sentiment \n",
    "    if analysis.sentiment.polarity > 0: \n",
    "        return 'positive'\n",
    "    elif analysis.sentiment.polarity == 0: \n",
    "        return 'neutral'\n",
    "    else: \n",
    "        return 'negative'\n",
    "  "
   ]
  },
  {
   "cell_type": "code",
   "execution_count": 45,
   "metadata": {},
   "outputs": [],
   "source": [
    "pd.set_option('display.max_colwidth', -1)"
   ]
  },
  {
   "cell_type": "code",
   "execution_count": 46,
   "metadata": {},
   "outputs": [],
   "source": [
    "tweet_sentiments= [ get_sentiment(tweet) for tweet in cleaned_tweets]"
   ]
  },
  {
   "cell_type": "code",
   "execution_count": 47,
   "metadata": {},
   "outputs": [],
   "source": [
    "sentiment_dict = {'tweet': cleaned_tweets,\n",
    "                 'sentiment': tweet_sentiments}\n",
    "\n",
    "tweet_sentiments_df = pd.DataFrame(sentiment_dict)"
   ]
  },
  {
   "cell_type": "code",
   "execution_count": 48,
   "metadata": {},
   "outputs": [
    {
     "data": {
      "text/html": [
       "<div>\n",
       "<style scoped>\n",
       "    .dataframe tbody tr th:only-of-type {\n",
       "        vertical-align: middle;\n",
       "    }\n",
       "\n",
       "    .dataframe tbody tr th {\n",
       "        vertical-align: top;\n",
       "    }\n",
       "\n",
       "    .dataframe thead th {\n",
       "        text-align: right;\n",
       "    }\n",
       "</style>\n",
       "<table border=\"1\" class=\"dataframe\">\n",
       "  <thead>\n",
       "    <tr style=\"text-align: right;\">\n",
       "      <th></th>\n",
       "      <th>tweet</th>\n",
       "      <th>sentiment</th>\n",
       "    </tr>\n",
       "  </thead>\n",
       "  <tbody>\n",
       "    <tr>\n",
       "      <th>749</th>\n",
       "      <td>toyota prius driver t653965c drove aggressively near 975 st nicholas ave october 19 reported #nyctaxi manhattan community board 12 #mancb12 #nypd33pct #visionzero #bikenyc</td>\n",
       "      <td>positive</td>\n",
       "    </tr>\n",
       "    <tr>\n",
       "      <th>562</th>\n",
       "      <td>#visionzero news across potomac #visionzerodc #bikedc #walkdc</td>\n",
       "      <td>neutral</td>\n",
       "    </tr>\n",
       "    <tr>\n",
       "      <th>690</th>\n",
       "      <td>strong call #visionzero vision #brum know many people across birmingham would support call ...</td>\n",
       "      <td>positive</td>\n",
       "    </tr>\n",
       "    <tr>\n",
       "      <th>871</th>\n",
       "      <td>#asthma #copd emphysema suffering #visionzero</td>\n",
       "      <td>neutral</td>\n",
       "    </tr>\n",
       "    <tr>\n",
       "      <th>502</th>\n",
       "      <td>met someone tonight always considered super cool cyclist learned gave suck bike around city--the collision anger ... awful #biketo #visionzero</td>\n",
       "      <td>negative</td>\n",
       "    </tr>\n",
       "    <tr>\n",
       "      <th>1045</th>\n",
       "      <td>one favorite thing #portland #protectedbikelanes please cc #saferstreets #visionzero</td>\n",
       "      <td>positive</td>\n",
       "    </tr>\n",
       "    <tr>\n",
       "      <th>1011</th>\n",
       "      <td>lincoln town car executive driver t603449c blocked bike lane near 118 e 106th st october 18 reported #nyctaxi manhattan community board 11 #manhattancb11 #nypd23pct #visionzero #bikenyc</td>\n",
       "      <td>positive</td>\n",
       "    </tr>\n",
       "    <tr>\n",
       "      <th>211</th>\n",
       "      <td>chevrolet suburban 1500 lt driver t652053c blocked bike lane near 534 3rd ave october 25 reported #nyctaxi brooklyn community board 06 #brooklyncb6 #nypd78pct #visionzero #bikenyc</td>\n",
       "      <td>positive</td>\n",
       "    </tr>\n",
       "    <tr>\n",
       "      <th>149</th>\n",
       "      <td>dc started #visionzero safety blitz supposed start yesterday thought</td>\n",
       "      <td>neutral</td>\n",
       "    </tr>\n",
       "    <tr>\n",
       "      <th>511</th>\n",
       "      <td>toyota camry l driver t743844c blocked crosswalk near 299 e 42nd st october 19 reported #nyctaxi manhattan community board 06 #cbsix #nypd17pct #visionzero #bikenyc</td>\n",
       "      <td>positive</td>\n",
       "    </tr>\n",
       "  </tbody>\n",
       "</table>\n",
       "</div>"
      ],
      "text/plain": [
       "                                                                                                                                                                                          tweet  \\\n",
       "749   toyota prius driver t653965c drove aggressively near 975 st nicholas ave october 19 reported #nyctaxi manhattan community board 12 #mancb12 #nypd33pct #visionzero #bikenyc                 \n",
       "562   #visionzero news across potomac #visionzerodc #bikedc #walkdc                                                                                                                               \n",
       "690   strong call #visionzero vision #brum know many people across birmingham would support call ...                                                                                              \n",
       "871   #asthma #copd emphysema suffering #visionzero                                                                                                                                               \n",
       "502   met someone tonight always considered super cool cyclist learned gave suck bike around city--the collision anger ... awful #biketo #visionzero                                              \n",
       "1045  one favorite thing #portland #protectedbikelanes please cc #saferstreets #visionzero                                                                                                        \n",
       "1011  lincoln town car executive driver t603449c blocked bike lane near 118 e 106th st october 18 reported #nyctaxi manhattan community board 11 #manhattancb11 #nypd23pct #visionzero #bikenyc   \n",
       "211   chevrolet suburban 1500 lt driver t652053c blocked bike lane near 534 3rd ave october 25 reported #nyctaxi brooklyn community board 06 #brooklyncb6 #nypd78pct #visionzero #bikenyc         \n",
       "149   dc started #visionzero safety blitz supposed start yesterday thought                                                                                                                        \n",
       "511   toyota camry l driver t743844c blocked crosswalk near 299 e 42nd st october 19 reported #nyctaxi manhattan community board 06 #cbsix #nypd17pct #visionzero #bikenyc                        \n",
       "\n",
       "     sentiment  \n",
       "749   positive  \n",
       "562   neutral   \n",
       "690   positive  \n",
       "871   neutral   \n",
       "502   negative  \n",
       "1045  positive  \n",
       "1011  positive  \n",
       "211   positive  \n",
       "149   neutral   \n",
       "511   positive  "
      ]
     },
     "execution_count": 48,
     "metadata": {},
     "output_type": "execute_result"
    }
   ],
   "source": [
    "tweet_sentiments_df.sample(10)"
   ]
  },
  {
   "cell_type": "code",
   "execution_count": 55,
   "metadata": {},
   "outputs": [
    {
     "data": {
      "text/plain": [
       "positive    582\n",
       "neutral     300\n",
       "negative    228\n",
       "Name: sentiment, dtype: int64"
      ]
     },
     "execution_count": 55,
     "metadata": {},
     "output_type": "execute_result"
    }
   ],
   "source": [
    "tweet_sentiments_df['sentiment'].value_counts()"
   ]
  },
  {
   "cell_type": "code",
   "execution_count": 52,
   "metadata": {},
   "outputs": [
    {
     "data": {
      "text/plain": [
       "52.43243243243243"
      ]
     },
     "execution_count": 52,
     "metadata": {},
     "output_type": "execute_result"
    }
   ],
   "source": [
    "tweet_sentiments_df['sentiment'].value_counts()[0]/len(tweet_sentiments_df['sentiment'])*100"
   ]
  },
  {
   "cell_type": "code",
   "execution_count": 54,
   "metadata": {},
   "outputs": [
    {
     "data": {
      "text/plain": [
       "27.027027027027028"
      ]
     },
     "execution_count": 54,
     "metadata": {},
     "output_type": "execute_result"
    }
   ],
   "source": [
    "tweet_sentiments_df['sentiment'].value_counts()[1]/len(tweet_sentiments_df['sentiment'])*100"
   ]
  },
  {
   "cell_type": "code",
   "execution_count": 53,
   "metadata": {},
   "outputs": [
    {
     "data": {
      "text/plain": [
       "20.54054054054054"
      ]
     },
     "execution_count": 53,
     "metadata": {},
     "output_type": "execute_result"
    }
   ],
   "source": [
    "tweet_sentiments_df['sentiment'].value_counts()[2]/len(tweet_sentiments_df['sentiment'])*100"
   ]
  },
  {
   "cell_type": "code",
   "execution_count": null,
   "metadata": {},
   "outputs": [],
   "source": []
  }
 ],
 "metadata": {
  "kernelspec": {
   "display_name": "Python 3",
   "language": "python",
   "name": "python3"
  },
  "language_info": {
   "codemirror_mode": {
    "name": "ipython",
    "version": 3
   },
   "file_extension": ".py",
   "mimetype": "text/x-python",
   "name": "python",
   "nbconvert_exporter": "python",
   "pygments_lexer": "ipython3",
   "version": "3.7.0"
  }
 },
 "nbformat": 4,
 "nbformat_minor": 2
}
